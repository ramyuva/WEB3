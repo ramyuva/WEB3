{
 "cells": [
  {
   "cell_type": "code",
   "execution_count": 2,
   "metadata": {},
   "outputs": [],
   "source": [
    "# Importing Libraries\n",
    "import pandas as pd\n",
    "from bs4 import BeautifulSoup\n",
    "import requests\n",
    "import selenium\n",
    "from selenium import webdriver\n",
    "import time"
   ]
  },
  {
   "cell_type": "code",
   "execution_count": 3,
   "metadata": {},
   "outputs": [],
   "source": [
    "driver=webdriver.Chrome(\"chromedriver.exe\")"
   ]
  },
  {
   "cell_type": "code",
   "execution_count": 4,
   "metadata": {},
   "outputs": [],
   "source": [
    "driver.get(\"https://www.flipkart.com\")"
   ]
  },
  {
   "cell_type": "code",
   "execution_count": 5,
   "metadata": {},
   "outputs": [],
   "source": [
    "search_phone=driver.find_element_by_xpath(\"//*[@id='container']/div/div[1]/div[1]/div[2]/div[2]/form/div/div/input\")\n",
    "search_phone.send_keys(\"smartphone\")"
   ]
  },
  {
   "cell_type": "code",
   "execution_count": 6,
   "metadata": {},
   "outputs": [],
   "source": [
    "search_btn=driver.find_element_by_xpath(\"//*[@id='container']/div/div[1]/div[1]/div[2]/div[2]/form/div/button\")\n",
    "search_btn.click()"
   ]
  },
  {
   "cell_type": "code",
   "execution_count": 7,
   "metadata": {},
   "outputs": [],
   "source": [
    "brand=[]\n",
    "smartphone_name_colour_RAM=[]\n",
    "RAM=[]\n",
    "ROM=[]\n",
    "Display_size=[]\n",
    "display_resolution=[]\n",
    "primary_camera=[]\n",
    "secondary_camera=[]\n",
    "processor_cores=[]\n",
    "Battery_capacity=[]\n",
    "price=[]\n",
    "pod=[]"
   ]
  },
  {
   "cell_type": "code",
   "execution_count": 8,
   "metadata": {},
   "outputs": [
    {
     "data": {
      "text/plain": [
       "['Realme',\n",
       " 'Realme',\n",
       " 'POCO C',\n",
       " 'POCO M',\n",
       " 'POCO C',\n",
       " 'POCO M',\n",
       " 'Redmi ',\n",
       " 'POCO M',\n",
       " 'POCO M']"
      ]
     },
     "execution_count": 8,
     "metadata": {},
     "output_type": "execute_result"
    }
   ],
   "source": [
    "titles_tag=driver.find_elements_by_xpath(\"//div[@class='_4rR01T']\")\n",
    "for i in titles_tag:\n",
    "    brand.append(i.text[0:6])\n",
    "brand[0:9]"
   ]
  },
  {
   "cell_type": "code",
   "execution_count": 9,
   "metadata": {},
   "outputs": [
    {
     "data": {
      "text/plain": [
       "['Realme C11 (Rich Green, 32 GB)',\n",
       " 'Realme C11 (Rich Grey, 32 GB)',\n",
       " 'POCO C3 (Arctic Blue, 32 GB)',\n",
       " 'POCO M3 (Cool Blue, 64 GB)',\n",
       " 'POCO C3 (Matte Black, 32 GB)',\n",
       " 'POCO M3 (Power Black, 64 GB)',\n",
       " 'Redmi 9i (Midnight Black, 64 GB)',\n",
       " 'POCO M2 (Slate Blue, 64 GB)',\n",
       " 'POCO M3 (Power Black, 128 GB)']"
      ]
     },
     "execution_count": 9,
     "metadata": {},
     "output_type": "execute_result"
    }
   ],
   "source": [
    "titles_tag1=driver.find_elements_by_xpath(\"//div[@class='_4rR01T']\")\n",
    "for i in titles_tag1:\n",
    "    smartphone_name_colour_RAM.append(i.text)\n",
    "smartphone_name_colour_RAM[0:9]"
   ]
  },
  {
   "cell_type": "code",
   "execution_count": 10,
   "metadata": {
    "scrolled": true
   },
   "outputs": [
    {
     "data": {
      "text/plain": [
       "['2 GB RAM',\n",
       " '2 GB RAM',\n",
       " '3 GB RAM',\n",
       " '6 GB RAM',\n",
       " '3 GB RAM',\n",
       " '6 GB RAM',\n",
       " '4 GB RAM',\n",
       " '6 GB RAM',\n",
       " '6 GB RAM']"
      ]
     },
     "execution_count": 10,
     "metadata": {},
     "output_type": "execute_result"
    }
   ],
   "source": [
    "titles_tag3=driver.find_elements_by_xpath(\"//ul[@class='_1xgFaf']/li[1]\")\n",
    "for i in titles_tag3:\n",
    "    RAM.append(i.text[0:8])\n",
    "RAM[0:9]"
   ]
  },
  {
   "cell_type": "code",
   "execution_count": 11,
   "metadata": {},
   "outputs": [
    {
     "data": {
      "text/plain": [
       "[' 32 GB',\n",
       " ' 32 GB',\n",
       " ' 32 GB',\n",
       " ' 64 GB',\n",
       " ' 32 GB',\n",
       " ' 64 GB',\n",
       " ' 64 GB',\n",
       " ' 64 GB',\n",
       " ' 128 G']"
      ]
     },
     "execution_count": 11,
     "metadata": {},
     "output_type": "execute_result"
    }
   ],
   "source": [
    "titles_tag3=driver.find_elements_by_xpath(\"//ul[@class='_1xgFaf']/li[1]\")\n",
    "for i in titles_tag3:\n",
    "    ROM.append(i.text[10:16])\n",
    "ROM[0:9]"
   ]
  },
  {
   "cell_type": "code",
   "execution_count": 12,
   "metadata": {},
   "outputs": [
    {
     "data": {
      "text/plain": [
       "['16.51 cm',\n",
       " '16.51 cm',\n",
       " '16.59 cm',\n",
       " '16.59 cm',\n",
       " '16.59 cm',\n",
       " '16.59 cm',\n",
       " '16.59 cm',\n",
       " '16.59 cm',\n",
       " '16.59 cm']"
      ]
     },
     "execution_count": 12,
     "metadata": {},
     "output_type": "execute_result"
    }
   ],
   "source": [
    "titles_tag4=driver.find_elements_by_xpath(\"//ul[@class='_1xgFaf']/li[2]\")\n",
    "for i in titles_tag4:\n",
    "    Display_size.append(i.text[0:8])\n",
    "Display_size[0:9]"
   ]
  },
  {
   "cell_type": "code",
   "execution_count": 13,
   "metadata": {},
   "outputs": [
    {
     "data": {
      "text/plain": [
       "[' HD+ Displa',\n",
       " ' HD+ Displa',\n",
       " ' HD+ Displa',\n",
       " ' HD+ Displa',\n",
       " ' HD+ Displa',\n",
       " ' HD+ Displa',\n",
       " ' HD+ Displa',\n",
       " ' HD+ Displa',\n",
       " ' HD+ Displa']"
      ]
     },
     "execution_count": 13,
     "metadata": {},
     "output_type": "execute_result"
    }
   ],
   "source": [
    "titles_tag5=driver.find_elements_by_xpath(\"//ul[@class='_1xgFaf']/li[2]\")\n",
    "for i in titles_tag5:\n",
    "    display_resolution.append(i.text[-12:-1])\n",
    "display_resolution[0:9]"
   ]
  },
  {
   "cell_type": "code",
   "execution_count": 14,
   "metadata": {},
   "outputs": [
    {
     "data": {
      "text/plain": [
       "['13MP + 2MP | 5MP F',\n",
       " '13MP + 2MP | 5MP F',\n",
       " '13MP + 2MP + 2MP |',\n",
       " '48MP + 2MP + 2MP |',\n",
       " '13MP + 2MP + 2MP |',\n",
       " '48MP + 2MP + 2MP |',\n",
       " '13MP Rear Camera |',\n",
       " '13MP + 8MP + 5MP +',\n",
       " '48MP + 2MP + 2MP |']"
      ]
     },
     "execution_count": 14,
     "metadata": {},
     "output_type": "execute_result"
    }
   ],
   "source": [
    "titles_tag6=driver.find_elements_by_xpath(\"//ul[@class='_1xgFaf']/li[3]\")\n",
    "for i in titles_tag6:\n",
    "    primary_camera.append(i.text[0:18])\n",
    "primary_camera[0:9]"
   ]
  },
  {
   "cell_type": "code",
   "execution_count": 15,
   "metadata": {},
   "outputs": [
    {
     "data": {
      "text/plain": [
       "['MP Front Camera',\n",
       " 'MP Front Camera',\n",
       " 'MP | 5MP Front Camer',\n",
       " 'MP | 8MP Front Camer',\n",
       " 'MP | 5MP Front Camer',\n",
       " 'MP | 8MP Front Camer',\n",
       " 'ra | 5MP Front Camer',\n",
       " 'MP + 2MP | 8MP Front',\n",
       " 'MP | 8MP Front Camer']"
      ]
     },
     "execution_count": 15,
     "metadata": {},
     "output_type": "execute_result"
    }
   ],
   "source": [
    "titles_tag7=driver.find_elements_by_xpath(\"//ul[@class='_1xgFaf']/li[3]\")\n",
    "for i in titles_tag7:\n",
    "    secondary_camera.append(i.text[14:34])\n",
    "secondary_camera[0:9]"
   ]
  },
  {
   "cell_type": "code",
   "execution_count": 16,
   "metadata": {},
   "outputs": [
    {
     "data": {
      "text/plain": [
       "['Mediatek Helio G35 Processor',\n",
       " 'Mediatek Helio G35 Processor',\n",
       " 'Mediatek Helio G35 Processor',\n",
       " 'Qualcomm Snapdragon 662 Processor',\n",
       " 'Mediatek Helio G35 Processor',\n",
       " 'Qualcomm Snapdragon 662 Processor',\n",
       " 'MediaTek Helio G25 Processor',\n",
       " 'MediaTek Helio G80 Processor',\n",
       " 'Qualcomm Snapdragon 662 Processor']"
      ]
     },
     "execution_count": 16,
     "metadata": {},
     "output_type": "execute_result"
    }
   ],
   "source": [
    "titles_tag8=driver.find_elements_by_xpath(\"//ul[@class='_1xgFaf']/li[5]\")\n",
    "for i in titles_tag8:\n",
    "    processor_cores.append(i.text)\n",
    "processor_cores[0:9]"
   ]
  },
  {
   "cell_type": "code",
   "execution_count": 18,
   "metadata": {},
   "outputs": [
    {
     "data": {
      "text/plain": [
       "['5000 mAh Battery',\n",
       " '5000 mAh Battery',\n",
       " '5000 mAh Li-ion Polymer Battery',\n",
       " '6000 mAh Lithium-ion Polymer Battery',\n",
       " '5000 mAh Li-ion Polymer Battery',\n",
       " '6000 mAh Lithium-ion Polymer Battery',\n",
       " '5000 mAh Lithium Polymer Battery',\n",
       " '5000 mAh Lithium Polymer Battery',\n",
       " '6000 mAh Lithium-ion Polymer Battery']"
      ]
     },
     "execution_count": 18,
     "metadata": {},
     "output_type": "execute_result"
    }
   ],
   "source": [
    "titles_tag9=driver.find_elements_by_xpath(\"//ul[@class='_1xgFaf']/li[4]\")\n",
    "for i in titles_tag9:\n",
    "    Battery_capacity.append(i.text)\n",
    "Battery_capacity[0:9]"
   ]
  },
  {
   "cell_type": "code",
   "execution_count": 19,
   "metadata": {},
   "outputs": [
    {
     "data": {
      "text/plain": [
       "['₹6,999',\n",
       " '₹6,999',\n",
       " '₹6,999',\n",
       " '₹10,999',\n",
       " '₹6,999',\n",
       " '₹10,999',\n",
       " '₹7,999',\n",
       " '₹9,999',\n",
       " '₹11,999']"
      ]
     },
     "execution_count": 19,
     "metadata": {},
     "output_type": "execute_result"
    }
   ],
   "source": [
    "titles_tag10=driver.find_elements_by_xpath(\"//div[@class='_30jeq3 _1_WHN1']\")\n",
    "for i in titles_tag10:\n",
    "    price.append(i.text)\n",
    "price[0:9]"
   ]
  },
  {
   "cell_type": "code",
   "execution_count": 20,
   "metadata": {},
   "outputs": [
    {
     "name": "stdout",
     "output_type": "stream",
     "text": [
      "['https://www.flipkart.com/realme-c11-rich-green-32-gb/p/itm831d19fd9cdc4?pid=MOBFTAYBSAMB6X4F&lid=LSTMOBFTAYBSAMB6X4FDYLKTW&marketplace=FLIPKART&srno=s_1_1&otracker=search&otracker1=search&fm=SEARCH&iid=b3c161b8-f712-4944-874c-d07fe9460a6a.MOBFTAYBSAMB6X4F.SEARCH&ppt=hp&ppn=homepage&ssid=et8pome3340000001614506477438&qH=1036ba3c4ed2c021', 'https://www.flipkart.com/realme-c11-rich-green-32-gb/p/itm831d19fd9cdc4?pid=MOBFTAYBSAMB6X4F&lid=LSTMOBFTAYBSAMB6X4FDYLKTW&marketplace=FLIPKART&srno=s_1_1&otracker=search&otracker1=search&fm=SEARCH&iid=b3c161b8-f712-4944-874c-d07fe9460a6a.MOBFTAYBSAMB6X4F.SEARCH&ppt=hp&ppn=homepage&ssid=et8pome3340000001614506477438&qH=1036ba3c4ed2c021', 'https://www.flipkart.com/realme-c11-rich-green-32-gb/p/itm831d19fd9cdc4?pid=MOBFTAYBSAMB6X4F&lid=LSTMOBFTAYBSAMB6X4FDYLKTW&marketplace=FLIPKART&srno=s_1_1&otracker=search&otracker1=search&fm=SEARCH&iid=b3c161b8-f712-4944-874c-d07fe9460a6a.MOBFTAYBSAMB6X4F.SEARCH&ppt=hp&ppn=homepage&ssid=et8pome3340000001614506477438&qH=1036ba3c4ed2c021', 'https://www.flipkart.com/realme-c11-rich-green-32-gb/p/itm831d19fd9cdc4?pid=MOBFTAYBSAMB6X4F&lid=LSTMOBFTAYBSAMB6X4FDYLKTW&marketplace=FLIPKART&srno=s_1_1&otracker=search&otracker1=search&fm=SEARCH&iid=b3c161b8-f712-4944-874c-d07fe9460a6a.MOBFTAYBSAMB6X4F.SEARCH&ppt=hp&ppn=homepage&ssid=et8pome3340000001614506477438&qH=1036ba3c4ed2c021', 'https://www.flipkart.com/realme-c11-rich-green-32-gb/p/itm831d19fd9cdc4?pid=MOBFTAYBSAMB6X4F&lid=LSTMOBFTAYBSAMB6X4FDYLKTW&marketplace=FLIPKART&srno=s_1_1&otracker=search&otracker1=search&fm=SEARCH&iid=b3c161b8-f712-4944-874c-d07fe9460a6a.MOBFTAYBSAMB6X4F.SEARCH&ppt=hp&ppn=homepage&ssid=et8pome3340000001614506477438&qH=1036ba3c4ed2c021', 'https://www.flipkart.com/realme-c11-rich-green-32-gb/p/itm831d19fd9cdc4?pid=MOBFTAYBSAMB6X4F&lid=LSTMOBFTAYBSAMB6X4FDYLKTW&marketplace=FLIPKART&srno=s_1_1&otracker=search&otracker1=search&fm=SEARCH&iid=b3c161b8-f712-4944-874c-d07fe9460a6a.MOBFTAYBSAMB6X4F.SEARCH&ppt=hp&ppn=homepage&ssid=et8pome3340000001614506477438&qH=1036ba3c4ed2c021', 'https://www.flipkart.com/realme-c11-rich-green-32-gb/p/itm831d19fd9cdc4?pid=MOBFTAYBSAMB6X4F&lid=LSTMOBFTAYBSAMB6X4FDYLKTW&marketplace=FLIPKART&srno=s_1_1&otracker=search&otracker1=search&fm=SEARCH&iid=b3c161b8-f712-4944-874c-d07fe9460a6a.MOBFTAYBSAMB6X4F.SEARCH&ppt=hp&ppn=homepage&ssid=et8pome3340000001614506477438&qH=1036ba3c4ed2c021', 'https://www.flipkart.com/realme-c11-rich-green-32-gb/p/itm831d19fd9cdc4?pid=MOBFTAYBSAMB6X4F&lid=LSTMOBFTAYBSAMB6X4FDYLKTW&marketplace=FLIPKART&srno=s_1_1&otracker=search&otracker1=search&fm=SEARCH&iid=b3c161b8-f712-4944-874c-d07fe9460a6a.MOBFTAYBSAMB6X4F.SEARCH&ppt=hp&ppn=homepage&ssid=et8pome3340000001614506477438&qH=1036ba3c4ed2c021', 'https://www.flipkart.com/realme-c11-rich-green-32-gb/p/itm831d19fd9cdc4?pid=MOBFTAYBSAMB6X4F&lid=LSTMOBFTAYBSAMB6X4FDYLKTW&marketplace=FLIPKART&srno=s_1_1&otracker=search&otracker1=search&fm=SEARCH&iid=b3c161b8-f712-4944-874c-d07fe9460a6a.MOBFTAYBSAMB6X4F.SEARCH&ppt=hp&ppn=homepage&ssid=et8pome3340000001614506477438&qH=1036ba3c4ed2c021', 'https://www.flipkart.com/realme-c11-rich-green-32-gb/p/itm831d19fd9cdc4?pid=MOBFTAYBSAMB6X4F&lid=LSTMOBFTAYBSAMB6X4FDYLKTW&marketplace=FLIPKART&srno=s_1_1&otracker=search&otracker1=search&fm=SEARCH&iid=b3c161b8-f712-4944-874c-d07fe9460a6a.MOBFTAYBSAMB6X4F.SEARCH&ppt=hp&ppn=homepage&ssid=et8pome3340000001614506477438&qH=1036ba3c4ed2c021', 'https://www.flipkart.com/realme-c11-rich-green-32-gb/p/itm831d19fd9cdc4?pid=MOBFTAYBSAMB6X4F&lid=LSTMOBFTAYBSAMB6X4FDYLKTW&marketplace=FLIPKART&srno=s_1_1&otracker=search&otracker1=search&fm=SEARCH&iid=b3c161b8-f712-4944-874c-d07fe9460a6a.MOBFTAYBSAMB6X4F.SEARCH&ppt=hp&ppn=homepage&ssid=et8pome3340000001614506477438&qH=1036ba3c4ed2c021', 'https://www.flipkart.com/realme-c11-rich-green-32-gb/p/itm831d19fd9cdc4?pid=MOBFTAYBSAMB6X4F&lid=LSTMOBFTAYBSAMB6X4FDYLKTW&marketplace=FLIPKART&srno=s_1_1&otracker=search&otracker1=search&fm=SEARCH&iid=b3c161b8-f712-4944-874c-d07fe9460a6a.MOBFTAYBSAMB6X4F.SEARCH&ppt=hp&ppn=homepage&ssid=et8pome3340000001614506477438&qH=1036ba3c4ed2c021', 'https://www.flipkart.com/realme-c11-rich-green-32-gb/p/itm831d19fd9cdc4?pid=MOBFTAYBSAMB6X4F&lid=LSTMOBFTAYBSAMB6X4FDYLKTW&marketplace=FLIPKART&srno=s_1_1&otracker=search&otracker1=search&fm=SEARCH&iid=b3c161b8-f712-4944-874c-d07fe9460a6a.MOBFTAYBSAMB6X4F.SEARCH&ppt=hp&ppn=homepage&ssid=et8pome3340000001614506477438&qH=1036ba3c4ed2c021', 'https://www.flipkart.com/realme-c11-rich-green-32-gb/p/itm831d19fd9cdc4?pid=MOBFTAYBSAMB6X4F&lid=LSTMOBFTAYBSAMB6X4FDYLKTW&marketplace=FLIPKART&srno=s_1_1&otracker=search&otracker1=search&fm=SEARCH&iid=b3c161b8-f712-4944-874c-d07fe9460a6a.MOBFTAYBSAMB6X4F.SEARCH&ppt=hp&ppn=homepage&ssid=et8pome3340000001614506477438&qH=1036ba3c4ed2c021', 'https://www.flipkart.com/realme-c11-rich-green-32-gb/p/itm831d19fd9cdc4?pid=MOBFTAYBSAMB6X4F&lid=LSTMOBFTAYBSAMB6X4FDYLKTW&marketplace=FLIPKART&srno=s_1_1&otracker=search&otracker1=search&fm=SEARCH&iid=b3c161b8-f712-4944-874c-d07fe9460a6a.MOBFTAYBSAMB6X4F.SEARCH&ppt=hp&ppn=homepage&ssid=et8pome3340000001614506477438&qH=1036ba3c4ed2c021', 'https://www.flipkart.com/realme-c11-rich-green-32-gb/p/itm831d19fd9cdc4?pid=MOBFTAYBSAMB6X4F&lid=LSTMOBFTAYBSAMB6X4FDYLKTW&marketplace=FLIPKART&srno=s_1_1&otracker=search&otracker1=search&fm=SEARCH&iid=b3c161b8-f712-4944-874c-d07fe9460a6a.MOBFTAYBSAMB6X4F.SEARCH&ppt=hp&ppn=homepage&ssid=et8pome3340000001614506477438&qH=1036ba3c4ed2c021', 'https://www.flipkart.com/realme-c11-rich-green-32-gb/p/itm831d19fd9cdc4?pid=MOBFTAYBSAMB6X4F&lid=LSTMOBFTAYBSAMB6X4FDYLKTW&marketplace=FLIPKART&srno=s_1_1&otracker=search&otracker1=search&fm=SEARCH&iid=b3c161b8-f712-4944-874c-d07fe9460a6a.MOBFTAYBSAMB6X4F.SEARCH&ppt=hp&ppn=homepage&ssid=et8pome3340000001614506477438&qH=1036ba3c4ed2c021', 'https://www.flipkart.com/realme-c11-rich-green-32-gb/p/itm831d19fd9cdc4?pid=MOBFTAYBSAMB6X4F&lid=LSTMOBFTAYBSAMB6X4FDYLKTW&marketplace=FLIPKART&srno=s_1_1&otracker=search&otracker1=search&fm=SEARCH&iid=b3c161b8-f712-4944-874c-d07fe9460a6a.MOBFTAYBSAMB6X4F.SEARCH&ppt=hp&ppn=homepage&ssid=et8pome3340000001614506477438&qH=1036ba3c4ed2c021', 'https://www.flipkart.com/realme-c11-rich-green-32-gb/p/itm831d19fd9cdc4?pid=MOBFTAYBSAMB6X4F&lid=LSTMOBFTAYBSAMB6X4FDYLKTW&marketplace=FLIPKART&srno=s_1_1&otracker=search&otracker1=search&fm=SEARCH&iid=b3c161b8-f712-4944-874c-d07fe9460a6a.MOBFTAYBSAMB6X4F.SEARCH&ppt=hp&ppn=homepage&ssid=et8pome3340000001614506477438&qH=1036ba3c4ed2c021', 'https://www.flipkart.com/realme-c11-rich-green-32-gb/p/itm831d19fd9cdc4?pid=MOBFTAYBSAMB6X4F&lid=LSTMOBFTAYBSAMB6X4FDYLKTW&marketplace=FLIPKART&srno=s_1_1&otracker=search&otracker1=search&fm=SEARCH&iid=b3c161b8-f712-4944-874c-d07fe9460a6a.MOBFTAYBSAMB6X4F.SEARCH&ppt=hp&ppn=homepage&ssid=et8pome3340000001614506477438&qH=1036ba3c4ed2c021', 'https://www.flipkart.com/realme-c11-rich-green-32-gb/p/itm831d19fd9cdc4?pid=MOBFTAYBSAMB6X4F&lid=LSTMOBFTAYBSAMB6X4FDYLKTW&marketplace=FLIPKART&srno=s_1_1&otracker=search&otracker1=search&fm=SEARCH&iid=b3c161b8-f712-4944-874c-d07fe9460a6a.MOBFTAYBSAMB6X4F.SEARCH&ppt=hp&ppn=homepage&ssid=et8pome3340000001614506477438&qH=1036ba3c4ed2c021', 'https://www.flipkart.com/realme-c11-rich-green-32-gb/p/itm831d19fd9cdc4?pid=MOBFTAYBSAMB6X4F&lid=LSTMOBFTAYBSAMB6X4FDYLKTW&marketplace=FLIPKART&srno=s_1_1&otracker=search&otracker1=search&fm=SEARCH&iid=b3c161b8-f712-4944-874c-d07fe9460a6a.MOBFTAYBSAMB6X4F.SEARCH&ppt=hp&ppn=homepage&ssid=et8pome3340000001614506477438&qH=1036ba3c4ed2c021', 'https://www.flipkart.com/realme-c11-rich-green-32-gb/p/itm831d19fd9cdc4?pid=MOBFTAYBSAMB6X4F&lid=LSTMOBFTAYBSAMB6X4FDYLKTW&marketplace=FLIPKART&srno=s_1_1&otracker=search&otracker1=search&fm=SEARCH&iid=b3c161b8-f712-4944-874c-d07fe9460a6a.MOBFTAYBSAMB6X4F.SEARCH&ppt=hp&ppn=homepage&ssid=et8pome3340000001614506477438&qH=1036ba3c4ed2c021']\n"
     ]
    }
   ],
   "source": [
    "for i in range(0,23):\n",
    "    pod.append(driver.find_element_by_xpath(\"//a[@class='_1fQZEK']\").get_attribute('href'))\n",
    "print(pod)"
   ]
  },
  {
   "cell_type": "code",
   "execution_count": 21,
   "metadata": {},
   "outputs": [],
   "source": [
    "import pandas as pd\n",
    "Flipkart=pd.DataFrame()\n",
    "Flipkart['Brand']=brand[0:23]\n",
    "Flipkart['NAME_PHONE']=smartphone_name_colour_RAM[0:23]\n",
    "Flipkart['RAM']=RAM[0:23]\n",
    "Flipkart['ROM']=ROM[0:23]\n",
    "Flipkart['DISPLAY_SIZE']=Display_size[0:23]\n",
    "Flipkart['DISPLAY_RESOLUTION']=display_resolution[0:23]\n",
    "Flipkart['PRIMARY_CAMERA']=primary_camera[0:23]\n",
    "Flipkart['SECONDARY_CAMERA']=secondary_camera[0:23]\n",
    "Flipkart['PROCESSOR_CORES']=processor_cores[0:23]\n",
    "Flipkart['BATTERY_CAPACITY']=Battery_capacity[0:23]\n",
    "Flipkart['PRICE']=price[0:23]\n",
    "Flipkart['PRODUCT_URL']=pod[0:23]"
   ]
  },
  {
   "cell_type": "code",
   "execution_count": 112,
   "metadata": {
    "scrolled": true
   },
   "outputs": [
    {
     "data": {
      "text/html": [
       "<div>\n",
       "<style scoped>\n",
       "    .dataframe tbody tr th:only-of-type {\n",
       "        vertical-align: middle;\n",
       "    }\n",
       "\n",
       "    .dataframe tbody tr th {\n",
       "        vertical-align: top;\n",
       "    }\n",
       "\n",
       "    .dataframe thead th {\n",
       "        text-align: right;\n",
       "    }\n",
       "</style>\n",
       "<table border=\"1\" class=\"dataframe\">\n",
       "  <thead>\n",
       "    <tr style=\"text-align: right;\">\n",
       "      <th></th>\n",
       "      <th>Brand</th>\n",
       "      <th>NAME_PHONE</th>\n",
       "      <th>RAM</th>\n",
       "      <th>ROM</th>\n",
       "      <th>DISPLAY_SIZE</th>\n",
       "      <th>DISPLAY_RESOLUTION</th>\n",
       "      <th>PRIMARY_CAMERA</th>\n",
       "      <th>SECONDARY_CAMERA</th>\n",
       "      <th>PROCESSOR_CORES</th>\n",
       "      <th>BATTERY_CAPACITY</th>\n",
       "      <th>PRICE</th>\n",
       "      <th>PRODUCT_URL</th>\n",
       "    </tr>\n",
       "  </thead>\n",
       "  <tbody>\n",
       "    <tr>\n",
       "      <th>0</th>\n",
       "      <td>POCO C</td>\n",
       "      <td>POCO C3 (Lime Green, 32 GB)</td>\n",
       "      <td>3 GB RAM</td>\n",
       "      <td>32 GB</td>\n",
       "      <td>16.59 cm</td>\n",
       "      <td>HD+ Displa</td>\n",
       "      <td>13MP + 2MP + 2MP |</td>\n",
       "      <td>MP | 5MP Front Camer</td>\n",
       "      <td>Mediatek Helio G35 Processor</td>\n",
       "      <td>5000 mAh Li-ion Polymer Battery</td>\n",
       "      <td>₹6,999</td>\n",
       "      <td>https://www.flipkart.com/poco-c3-lime-green-32...</td>\n",
       "    </tr>\n",
       "    <tr>\n",
       "      <th>1</th>\n",
       "      <td>POCO C</td>\n",
       "      <td>POCO C3 (Matte Black, 32 GB)</td>\n",
       "      <td>3 GB RAM</td>\n",
       "      <td>32 GB</td>\n",
       "      <td>16.59 cm</td>\n",
       "      <td>HD+ Displa</td>\n",
       "      <td>13MP + 2MP + 2MP |</td>\n",
       "      <td>MP | 5MP Front Camer</td>\n",
       "      <td>Mediatek Helio G35 Processor</td>\n",
       "      <td>5000 mAh Li-ion Polymer Battery</td>\n",
       "      <td>₹6,999</td>\n",
       "      <td>https://www.flipkart.com/poco-c3-lime-green-32...</td>\n",
       "    </tr>\n",
       "    <tr>\n",
       "      <th>2</th>\n",
       "      <td>Realme</td>\n",
       "      <td>Realme C11 (Rich Grey, 32 GB)</td>\n",
       "      <td>2 GB RAM</td>\n",
       "      <td>32 GB</td>\n",
       "      <td>16.51 cm</td>\n",
       "      <td>HD+ Displa</td>\n",
       "      <td>13MP + 2MP | 5MP F</td>\n",
       "      <td>MP Front Camera</td>\n",
       "      <td>Mediatek Helio G35 Processor</td>\n",
       "      <td>5000 mAh Battery</td>\n",
       "      <td>₹6,999</td>\n",
       "      <td>https://www.flipkart.com/poco-c3-lime-green-32...</td>\n",
       "    </tr>\n",
       "    <tr>\n",
       "      <th>3</th>\n",
       "      <td>Realme</td>\n",
       "      <td>Realme C11 (Rich Green, 32 GB)</td>\n",
       "      <td>2 GB RAM</td>\n",
       "      <td>32 GB</td>\n",
       "      <td>16.51 cm</td>\n",
       "      <td>HD+ Displa</td>\n",
       "      <td>13MP + 2MP | 5MP F</td>\n",
       "      <td>MP Front Camera</td>\n",
       "      <td>Mediatek Helio G35 Processor</td>\n",
       "      <td>5000 mAh Battery</td>\n",
       "      <td>₹6,999</td>\n",
       "      <td>https://www.flipkart.com/poco-c3-lime-green-32...</td>\n",
       "    </tr>\n",
       "    <tr>\n",
       "      <th>4</th>\n",
       "      <td>POCO C</td>\n",
       "      <td>POCO C3 (Arctic Blue, 32 GB)</td>\n",
       "      <td>3 GB RAM</td>\n",
       "      <td>32 GB</td>\n",
       "      <td>16.59 cm</td>\n",
       "      <td>HD+ Displa</td>\n",
       "      <td>13MP + 2MP + 2MP |</td>\n",
       "      <td>MP | 5MP Front Camer</td>\n",
       "      <td>Mediatek Helio G35 Processor</td>\n",
       "      <td>5000 mAh Li-ion Polymer Battery</td>\n",
       "      <td>₹6,999</td>\n",
       "      <td>https://www.flipkart.com/poco-c3-lime-green-32...</td>\n",
       "    </tr>\n",
       "    <tr>\n",
       "      <th>5</th>\n",
       "      <td>POCO M</td>\n",
       "      <td>POCO M3 (Cool Blue, 64 GB)</td>\n",
       "      <td>6 GB RAM</td>\n",
       "      <td>64 GB</td>\n",
       "      <td>16.59 cm</td>\n",
       "      <td>HD+ Displa</td>\n",
       "      <td>48MP + 2MP + 2MP |</td>\n",
       "      <td>MP | 8MP Front Camer</td>\n",
       "      <td>Qualcomm Snapdragon 662 Processor</td>\n",
       "      <td>6000 mAh Lithium-ion Polymer Battery</td>\n",
       "      <td>₹10,999</td>\n",
       "      <td>https://www.flipkart.com/poco-c3-lime-green-32...</td>\n",
       "    </tr>\n",
       "    <tr>\n",
       "      <th>6</th>\n",
       "      <td>POCO M</td>\n",
       "      <td>POCO M3 (Power Black, 64 GB)</td>\n",
       "      <td>6 GB RAM</td>\n",
       "      <td>64 GB</td>\n",
       "      <td>16.59 cm</td>\n",
       "      <td>HD+ Displa</td>\n",
       "      <td>48MP + 2MP + 2MP |</td>\n",
       "      <td>MP | 8MP Front Camer</td>\n",
       "      <td>Qualcomm Snapdragon 662 Processor</td>\n",
       "      <td>6000 mAh Lithium-ion Polymer Battery</td>\n",
       "      <td>₹10,999</td>\n",
       "      <td>https://www.flipkart.com/poco-c3-lime-green-32...</td>\n",
       "    </tr>\n",
       "    <tr>\n",
       "      <th>7</th>\n",
       "      <td>Redmi</td>\n",
       "      <td>Redmi 9i (Midnight Black, 64 GB)</td>\n",
       "      <td>4 GB RAM</td>\n",
       "      <td>64 GB</td>\n",
       "      <td>16.59 cm</td>\n",
       "      <td>HD+ Displa</td>\n",
       "      <td>13MP Rear Camera |</td>\n",
       "      <td>ra | 5MP Front Camer</td>\n",
       "      <td>MediaTek Helio G25 Processor</td>\n",
       "      <td>5000 mAh Lithium Polymer Battery</td>\n",
       "      <td>₹7,999</td>\n",
       "      <td>https://www.flipkart.com/poco-c3-lime-green-32...</td>\n",
       "    </tr>\n",
       "    <tr>\n",
       "      <th>8</th>\n",
       "      <td>POCO M</td>\n",
       "      <td>POCO M3 (Power Black, 128 GB)</td>\n",
       "      <td>6 GB RAM</td>\n",
       "      <td>128 G</td>\n",
       "      <td>16.59 cm</td>\n",
       "      <td>HD+ Displa</td>\n",
       "      <td>48MP + 2MP + 2MP |</td>\n",
       "      <td>MP | 8MP Front Camer</td>\n",
       "      <td>Qualcomm Snapdragon 662 Processor</td>\n",
       "      <td>6000 mAh Lithium-ion Polymer Battery</td>\n",
       "      <td>₹11,999</td>\n",
       "      <td>https://www.flipkart.com/poco-c3-lime-green-32...</td>\n",
       "    </tr>\n",
       "    <tr>\n",
       "      <th>9</th>\n",
       "      <td>POCO M</td>\n",
       "      <td>POCO M3 (Cool Blue, 128 GB)</td>\n",
       "      <td>6 GB RAM</td>\n",
       "      <td>128 G</td>\n",
       "      <td>16.59 cm</td>\n",
       "      <td>HD+ Displa</td>\n",
       "      <td>48MP + 2MP + 2MP |</td>\n",
       "      <td>MP | 8MP Front Camer</td>\n",
       "      <td>Qualcomm Snapdragon 662 Processor</td>\n",
       "      <td>6000 mAh Lithium-ion Polymer Battery</td>\n",
       "      <td>₹11,999</td>\n",
       "      <td>https://www.flipkart.com/poco-c3-lime-green-32...</td>\n",
       "    </tr>\n",
       "    <tr>\n",
       "      <th>10</th>\n",
       "      <td>POCO M</td>\n",
       "      <td>POCO M2 Pro (Out of the Blue, 64 GB)</td>\n",
       "      <td>4 GB RAM</td>\n",
       "      <td>64 GB</td>\n",
       "      <td>16.94 cm</td>\n",
       "      <td>HD+ Displa</td>\n",
       "      <td>48MP + 8MP + 5MP +</td>\n",
       "      <td>MP + 2MP | 16MP Fron</td>\n",
       "      <td>Qualcomm Snapdragon 720G Processor</td>\n",
       "      <td>5000 mAh Lithium-ion Polymer Battery</td>\n",
       "      <td>₹11,999</td>\n",
       "      <td>https://www.flipkart.com/poco-c3-lime-green-32...</td>\n",
       "    </tr>\n",
       "    <tr>\n",
       "      <th>11</th>\n",
       "      <td>Redmi</td>\n",
       "      <td>Redmi 9 Prime (Space Blue, 64 GB)</td>\n",
       "      <td>4 GB RAM</td>\n",
       "      <td>64 GB</td>\n",
       "      <td>16.59 cm</td>\n",
       "      <td>HD+ Displa</td>\n",
       "      <td>13MP Rear Camera |</td>\n",
       "      <td>ra | 8MP Front Camer</td>\n",
       "      <td>MediaTek Helio G80 Processor</td>\n",
       "      <td>5020 mAh Battery</td>\n",
       "      <td>₹9,499</td>\n",
       "      <td>https://www.flipkart.com/poco-c3-lime-green-32...</td>\n",
       "    </tr>\n",
       "    <tr>\n",
       "      <th>12</th>\n",
       "      <td>POCO M</td>\n",
       "      <td>POCO M2 (Slate Blue, 64 GB)</td>\n",
       "      <td>6 GB RAM</td>\n",
       "      <td>64 GB</td>\n",
       "      <td>16.59 cm</td>\n",
       "      <td>HD+ Displa</td>\n",
       "      <td>13MP + 8MP + 5MP +</td>\n",
       "      <td>MP + 2MP | 8MP Front</td>\n",
       "      <td>MediaTek Helio G80 Processor</td>\n",
       "      <td>5000 mAh Lithium Polymer Battery</td>\n",
       "      <td>₹9,999</td>\n",
       "      <td>https://www.flipkart.com/poco-c3-lime-green-32...</td>\n",
       "    </tr>\n",
       "    <tr>\n",
       "      <th>13</th>\n",
       "      <td>POCO M</td>\n",
       "      <td>POCO M2 Pro (Green and Greener, 64 GB)</td>\n",
       "      <td>6 GB RAM</td>\n",
       "      <td>64 GB</td>\n",
       "      <td>16.94 cm</td>\n",
       "      <td>HD+ Displa</td>\n",
       "      <td>48MP + 8MP + 5MP +</td>\n",
       "      <td>MP + 2MP | 16MP Fron</td>\n",
       "      <td>Qualcomm Snapdragon 720G Processor</td>\n",
       "      <td>5000 mAh Lithium-ion Polymer Battery</td>\n",
       "      <td>₹12,999</td>\n",
       "      <td>https://www.flipkart.com/poco-c3-lime-green-32...</td>\n",
       "    </tr>\n",
       "    <tr>\n",
       "      <th>14</th>\n",
       "      <td>Redmi</td>\n",
       "      <td>Redmi 9i (Nature Green, 64 GB)</td>\n",
       "      <td>4 GB RAM</td>\n",
       "      <td>64 GB</td>\n",
       "      <td>16.59 cm</td>\n",
       "      <td>HD+ Displa</td>\n",
       "      <td>13MP Rear Camera |</td>\n",
       "      <td>ra | 5MP Front Camer</td>\n",
       "      <td>MediaTek Helio G25 Processor</td>\n",
       "      <td>5000 mAh Lithium Polymer Battery</td>\n",
       "      <td>₹7,999</td>\n",
       "      <td>https://www.flipkart.com/poco-c3-lime-green-32...</td>\n",
       "    </tr>\n",
       "    <tr>\n",
       "      <th>15</th>\n",
       "      <td>POCO C</td>\n",
       "      <td>POCO C3 (Lime Green, 64 GB)</td>\n",
       "      <td>4 GB RAM</td>\n",
       "      <td>64 GB</td>\n",
       "      <td>16.59 cm</td>\n",
       "      <td>HD+ Displa</td>\n",
       "      <td>13MP + 2MP + 2MP |</td>\n",
       "      <td>MP | 5MP Front Camer</td>\n",
       "      <td>Mediatek Helio G35 Processor</td>\n",
       "      <td>5000 mAh Li-ion Polymer Battery</td>\n",
       "      <td>₹7,999</td>\n",
       "      <td>https://www.flipkart.com/poco-c3-lime-green-32...</td>\n",
       "    </tr>\n",
       "    <tr>\n",
       "      <th>16</th>\n",
       "      <td>Realme</td>\n",
       "      <td>Realme Narzo 20 Pro (Black Ninja, 64 GB)</td>\n",
       "      <td>6 GB RAM</td>\n",
       "      <td>64 GB</td>\n",
       "      <td>16.51 cm</td>\n",
       "      <td>HD+ Displa</td>\n",
       "      <td>48MP + 8MP + 2MP +</td>\n",
       "      <td>MP + 2MP | 16MP Fron</td>\n",
       "      <td>MediaTek Helio G95 Processor</td>\n",
       "      <td>4500 mAh Lithium-ion Battery</td>\n",
       "      <td>₹13,999</td>\n",
       "      <td>https://www.flipkart.com/poco-c3-lime-green-32...</td>\n",
       "    </tr>\n",
       "    <tr>\n",
       "      <th>17</th>\n",
       "      <td>Redmi</td>\n",
       "      <td>Redmi 9 Prime (Mint Green, 64 GB)</td>\n",
       "      <td>4 GB RAM</td>\n",
       "      <td>64 GB</td>\n",
       "      <td>16.59 cm</td>\n",
       "      <td>HD+ Displa</td>\n",
       "      <td>13MP Rear Camera |</td>\n",
       "      <td>ra | 8MP Front Camer</td>\n",
       "      <td>MediaTek Helio G80 Processor</td>\n",
       "      <td>5020 mAh Battery</td>\n",
       "      <td>₹9,499</td>\n",
       "      <td>https://www.flipkart.com/poco-c3-lime-green-32...</td>\n",
       "    </tr>\n",
       "    <tr>\n",
       "      <th>18</th>\n",
       "      <td>Realme</td>\n",
       "      <td>Realme Narzo 20A (Glory Silver, 64 GB)</td>\n",
       "      <td>4 GB RAM</td>\n",
       "      <td>64 GB</td>\n",
       "      <td>16.51 cm</td>\n",
       "      <td>HD+ Displa</td>\n",
       "      <td>12MP + 2MP + 2MP |</td>\n",
       "      <td>MP | 8MP Front Camer</td>\n",
       "      <td>Qualcomm Snapdragon 665 Processor</td>\n",
       "      <td>5000 mAh Lithium-ion Battery</td>\n",
       "      <td>₹9,499</td>\n",
       "      <td>https://www.flipkart.com/poco-c3-lime-green-32...</td>\n",
       "    </tr>\n",
       "    <tr>\n",
       "      <th>19</th>\n",
       "      <td>Realme</td>\n",
       "      <td>Realme X7 (Space Silver, 128 GB)</td>\n",
       "      <td>6 GB RAM</td>\n",
       "      <td>128 G</td>\n",
       "      <td>16.33 cm</td>\n",
       "      <td>HD+ Displa</td>\n",
       "      <td>64MP + 8MP + 2MP |</td>\n",
       "      <td>MP | 16MP Front Came</td>\n",
       "      <td>MediaTek Dimensity 800U Processor</td>\n",
       "      <td>4310 mAh Battery</td>\n",
       "      <td>₹19,999</td>\n",
       "      <td>https://www.flipkart.com/poco-c3-lime-green-32...</td>\n",
       "    </tr>\n",
       "    <tr>\n",
       "      <th>20</th>\n",
       "      <td>Redmi</td>\n",
       "      <td>Redmi 9 Prime (Matte Black, 64 GB)</td>\n",
       "      <td>4 GB RAM</td>\n",
       "      <td>64 GB</td>\n",
       "      <td>16.59 cm</td>\n",
       "      <td>HD+ Displa</td>\n",
       "      <td>13MP Rear Camera |</td>\n",
       "      <td>ra | 8MP Front Camer</td>\n",
       "      <td>MediaTek Helio G80 Processor</td>\n",
       "      <td>5020 mAh Battery</td>\n",
       "      <td>₹9,499</td>\n",
       "      <td>https://www.flipkart.com/poco-c3-lime-green-32...</td>\n",
       "    </tr>\n",
       "    <tr>\n",
       "      <th>21</th>\n",
       "      <td>Infini</td>\n",
       "      <td>Infinix Smart HD 2021 (Quartz Green, 32 GB)</td>\n",
       "      <td>2 GB RAM</td>\n",
       "      <td>32 GB</td>\n",
       "      <td>15.49 cm</td>\n",
       "      <td>HD+ Displa</td>\n",
       "      <td>8MP Rear Camera |</td>\n",
       "      <td>a | 5MP Front Camera</td>\n",
       "      <td>MediaTek Helio A20 Processor</td>\n",
       "      <td>5000 mAh Li-ion Polymer Battery</td>\n",
       "      <td>₹6,199</td>\n",
       "      <td>https://www.flipkart.com/poco-c3-lime-green-32...</td>\n",
       "    </tr>\n",
       "    <tr>\n",
       "      <th>22</th>\n",
       "      <td>Redmi</td>\n",
       "      <td>Redmi 9i (Sea Blue, 64 GB)</td>\n",
       "      <td>4 GB RAM</td>\n",
       "      <td>64 GB</td>\n",
       "      <td>16.59 cm</td>\n",
       "      <td>HD+ Displa</td>\n",
       "      <td>13MP Rear Camera |</td>\n",
       "      <td>ra | 5MP Front Camer</td>\n",
       "      <td>MediaTek Helio G25 Processor</td>\n",
       "      <td>5000 mAh Lithium Polymer Battery</td>\n",
       "      <td>₹7,999</td>\n",
       "      <td>https://www.flipkart.com/poco-c3-lime-green-32...</td>\n",
       "    </tr>\n",
       "  </tbody>\n",
       "</table>\n",
       "</div>"
      ],
      "text/plain": [
       "     Brand                                   NAME_PHONE       RAM     ROM  \\\n",
       "0   POCO C                  POCO C3 (Lime Green, 32 GB)  3 GB RAM   32 GB   \n",
       "1   POCO C                 POCO C3 (Matte Black, 32 GB)  3 GB RAM   32 GB   \n",
       "2   Realme                Realme C11 (Rich Grey, 32 GB)  2 GB RAM   32 GB   \n",
       "3   Realme               Realme C11 (Rich Green, 32 GB)  2 GB RAM   32 GB   \n",
       "4   POCO C                 POCO C3 (Arctic Blue, 32 GB)  3 GB RAM   32 GB   \n",
       "5   POCO M                   POCO M3 (Cool Blue, 64 GB)  6 GB RAM   64 GB   \n",
       "6   POCO M                 POCO M3 (Power Black, 64 GB)  6 GB RAM   64 GB   \n",
       "7   Redmi              Redmi 9i (Midnight Black, 64 GB)  4 GB RAM   64 GB   \n",
       "8   POCO M                POCO M3 (Power Black, 128 GB)  6 GB RAM   128 G   \n",
       "9   POCO M                  POCO M3 (Cool Blue, 128 GB)  6 GB RAM   128 G   \n",
       "10  POCO M         POCO M2 Pro (Out of the Blue, 64 GB)  4 GB RAM   64 GB   \n",
       "11  Redmi             Redmi 9 Prime (Space Blue, 64 GB)  4 GB RAM   64 GB   \n",
       "12  POCO M                  POCO M2 (Slate Blue, 64 GB)  6 GB RAM   64 GB   \n",
       "13  POCO M       POCO M2 Pro (Green and Greener, 64 GB)  6 GB RAM   64 GB   \n",
       "14  Redmi                Redmi 9i (Nature Green, 64 GB)  4 GB RAM   64 GB   \n",
       "15  POCO C                  POCO C3 (Lime Green, 64 GB)  4 GB RAM   64 GB   \n",
       "16  Realme     Realme Narzo 20 Pro (Black Ninja, 64 GB)  6 GB RAM   64 GB   \n",
       "17  Redmi             Redmi 9 Prime (Mint Green, 64 GB)  4 GB RAM   64 GB   \n",
       "18  Realme       Realme Narzo 20A (Glory Silver, 64 GB)  4 GB RAM   64 GB   \n",
       "19  Realme             Realme X7 (Space Silver, 128 GB)  6 GB RAM   128 G   \n",
       "20  Redmi            Redmi 9 Prime (Matte Black, 64 GB)  4 GB RAM   64 GB   \n",
       "21  Infini  Infinix Smart HD 2021 (Quartz Green, 32 GB)  2 GB RAM   32 GB   \n",
       "22  Redmi                    Redmi 9i (Sea Blue, 64 GB)  4 GB RAM   64 GB   \n",
       "\n",
       "   DISPLAY_SIZE DISPLAY_RESOLUTION      PRIMARY_CAMERA      SECONDARY_CAMERA  \\\n",
       "0      16.59 cm         HD+ Displa  13MP + 2MP + 2MP |  MP | 5MP Front Camer   \n",
       "1      16.59 cm         HD+ Displa  13MP + 2MP + 2MP |  MP | 5MP Front Camer   \n",
       "2      16.51 cm         HD+ Displa  13MP + 2MP | 5MP F       MP Front Camera   \n",
       "3      16.51 cm         HD+ Displa  13MP + 2MP | 5MP F       MP Front Camera   \n",
       "4      16.59 cm         HD+ Displa  13MP + 2MP + 2MP |  MP | 5MP Front Camer   \n",
       "5      16.59 cm         HD+ Displa  48MP + 2MP + 2MP |  MP | 8MP Front Camer   \n",
       "6      16.59 cm         HD+ Displa  48MP + 2MP + 2MP |  MP | 8MP Front Camer   \n",
       "7      16.59 cm         HD+ Displa  13MP Rear Camera |  ra | 5MP Front Camer   \n",
       "8      16.59 cm         HD+ Displa  48MP + 2MP + 2MP |  MP | 8MP Front Camer   \n",
       "9      16.59 cm         HD+ Displa  48MP + 2MP + 2MP |  MP | 8MP Front Camer   \n",
       "10     16.94 cm         HD+ Displa  48MP + 8MP + 5MP +  MP + 2MP | 16MP Fron   \n",
       "11     16.59 cm         HD+ Displa  13MP Rear Camera |  ra | 8MP Front Camer   \n",
       "12     16.59 cm         HD+ Displa  13MP + 8MP + 5MP +  MP + 2MP | 8MP Front   \n",
       "13     16.94 cm         HD+ Displa  48MP + 8MP + 5MP +  MP + 2MP | 16MP Fron   \n",
       "14     16.59 cm         HD+ Displa  13MP Rear Camera |  ra | 5MP Front Camer   \n",
       "15     16.59 cm         HD+ Displa  13MP + 2MP + 2MP |  MP | 5MP Front Camer   \n",
       "16     16.51 cm         HD+ Displa  48MP + 8MP + 2MP +  MP + 2MP | 16MP Fron   \n",
       "17     16.59 cm         HD+ Displa  13MP Rear Camera |  ra | 8MP Front Camer   \n",
       "18     16.51 cm         HD+ Displa  12MP + 2MP + 2MP |  MP | 8MP Front Camer   \n",
       "19     16.33 cm         HD+ Displa  64MP + 8MP + 2MP |  MP | 16MP Front Came   \n",
       "20     16.59 cm         HD+ Displa  13MP Rear Camera |  ra | 8MP Front Camer   \n",
       "21     15.49 cm         HD+ Displa  8MP Rear Camera |   a | 5MP Front Camera   \n",
       "22     16.59 cm         HD+ Displa  13MP Rear Camera |  ra | 5MP Front Camer   \n",
       "\n",
       "                       PROCESSOR_CORES                      BATTERY_CAPACITY  \\\n",
       "0         Mediatek Helio G35 Processor       5000 mAh Li-ion Polymer Battery   \n",
       "1         Mediatek Helio G35 Processor       5000 mAh Li-ion Polymer Battery   \n",
       "2         Mediatek Helio G35 Processor                      5000 mAh Battery   \n",
       "3         Mediatek Helio G35 Processor                      5000 mAh Battery   \n",
       "4         Mediatek Helio G35 Processor       5000 mAh Li-ion Polymer Battery   \n",
       "5    Qualcomm Snapdragon 662 Processor  6000 mAh Lithium-ion Polymer Battery   \n",
       "6    Qualcomm Snapdragon 662 Processor  6000 mAh Lithium-ion Polymer Battery   \n",
       "7         MediaTek Helio G25 Processor      5000 mAh Lithium Polymer Battery   \n",
       "8    Qualcomm Snapdragon 662 Processor  6000 mAh Lithium-ion Polymer Battery   \n",
       "9    Qualcomm Snapdragon 662 Processor  6000 mAh Lithium-ion Polymer Battery   \n",
       "10  Qualcomm Snapdragon 720G Processor  5000 mAh Lithium-ion Polymer Battery   \n",
       "11        MediaTek Helio G80 Processor                      5020 mAh Battery   \n",
       "12        MediaTek Helio G80 Processor      5000 mAh Lithium Polymer Battery   \n",
       "13  Qualcomm Snapdragon 720G Processor  5000 mAh Lithium-ion Polymer Battery   \n",
       "14        MediaTek Helio G25 Processor      5000 mAh Lithium Polymer Battery   \n",
       "15        Mediatek Helio G35 Processor       5000 mAh Li-ion Polymer Battery   \n",
       "16        MediaTek Helio G95 Processor          4500 mAh Lithium-ion Battery   \n",
       "17        MediaTek Helio G80 Processor                      5020 mAh Battery   \n",
       "18   Qualcomm Snapdragon 665 Processor          5000 mAh Lithium-ion Battery   \n",
       "19   MediaTek Dimensity 800U Processor                      4310 mAh Battery   \n",
       "20        MediaTek Helio G80 Processor                      5020 mAh Battery   \n",
       "21        MediaTek Helio A20 Processor       5000 mAh Li-ion Polymer Battery   \n",
       "22        MediaTek Helio G25 Processor      5000 mAh Lithium Polymer Battery   \n",
       "\n",
       "      PRICE                                        PRODUCT_URL  \n",
       "0    ₹6,999  https://www.flipkart.com/poco-c3-lime-green-32...  \n",
       "1    ₹6,999  https://www.flipkart.com/poco-c3-lime-green-32...  \n",
       "2    ₹6,999  https://www.flipkart.com/poco-c3-lime-green-32...  \n",
       "3    ₹6,999  https://www.flipkart.com/poco-c3-lime-green-32...  \n",
       "4    ₹6,999  https://www.flipkart.com/poco-c3-lime-green-32...  \n",
       "5   ₹10,999  https://www.flipkart.com/poco-c3-lime-green-32...  \n",
       "6   ₹10,999  https://www.flipkart.com/poco-c3-lime-green-32...  \n",
       "7    ₹7,999  https://www.flipkart.com/poco-c3-lime-green-32...  \n",
       "8   ₹11,999  https://www.flipkart.com/poco-c3-lime-green-32...  \n",
       "9   ₹11,999  https://www.flipkart.com/poco-c3-lime-green-32...  \n",
       "10  ₹11,999  https://www.flipkart.com/poco-c3-lime-green-32...  \n",
       "11   ₹9,499  https://www.flipkart.com/poco-c3-lime-green-32...  \n",
       "12   ₹9,999  https://www.flipkart.com/poco-c3-lime-green-32...  \n",
       "13  ₹12,999  https://www.flipkart.com/poco-c3-lime-green-32...  \n",
       "14   ₹7,999  https://www.flipkart.com/poco-c3-lime-green-32...  \n",
       "15   ₹7,999  https://www.flipkart.com/poco-c3-lime-green-32...  \n",
       "16  ₹13,999  https://www.flipkart.com/poco-c3-lime-green-32...  \n",
       "17   ₹9,499  https://www.flipkart.com/poco-c3-lime-green-32...  \n",
       "18   ₹9,499  https://www.flipkart.com/poco-c3-lime-green-32...  \n",
       "19  ₹19,999  https://www.flipkart.com/poco-c3-lime-green-32...  \n",
       "20   ₹9,499  https://www.flipkart.com/poco-c3-lime-green-32...  \n",
       "21   ₹6,199  https://www.flipkart.com/poco-c3-lime-green-32...  \n",
       "22   ₹7,999  https://www.flipkart.com/poco-c3-lime-green-32...  "
      ]
     },
     "execution_count": 112,
     "metadata": {},
     "output_type": "execute_result"
    }
   ],
   "source": [
    "Flipkart"
   ]
  },
  {
   "cell_type": "code",
   "execution_count": 22,
   "metadata": {},
   "outputs": [],
   "source": [
    "Flipkart.to_csv('flipkart_phone.csv') "
   ]
  }
 ],
 "metadata": {
  "kernelspec": {
   "display_name": "Python 3",
   "language": "python",
   "name": "python3"
  },
  "language_info": {
   "codemirror_mode": {
    "name": "ipython",
    "version": 3
   },
   "file_extension": ".py",
   "mimetype": "text/x-python",
   "name": "python",
   "nbconvert_exporter": "python",
   "pygments_lexer": "ipython3",
   "version": "3.7.6"
  }
 },
 "nbformat": 4,
 "nbformat_minor": 4
}
