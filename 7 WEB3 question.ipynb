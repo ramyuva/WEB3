{
 "cells": [
  {
   "cell_type": "code",
   "execution_count": 18,
   "metadata": {},
   "outputs": [],
   "source": [
    "# Importing Libraries\n",
    "import pandas as pd\n",
    "from bs4 import BeautifulSoup\n",
    "import requests\n",
    "import selenium\n",
    "from selenium import webdriver\n",
    "import time"
   ]
  },
  {
   "cell_type": "code",
   "execution_count": 19,
   "metadata": {},
   "outputs": [],
   "source": [
    "driver=webdriver.Chrome(\"chromedriver.exe\")"
   ]
  },
  {
   "cell_type": "code",
   "execution_count": 20,
   "metadata": {},
   "outputs": [],
   "source": [
    "driver.get(\"https://www.digit.in/\")"
   ]
  },
  {
   "cell_type": "code",
   "execution_count": 21,
   "metadata": {},
   "outputs": [],
   "source": [
    "search_btn=driver.find_element_by_xpath(\"//div[@class='search']\")\n",
    "search_btn.click()"
   ]
  },
  {
   "cell_type": "code",
   "execution_count": 22,
   "metadata": {},
   "outputs": [],
   "source": [
    "search_laptop=driver.find_element_by_xpath(\"//input[@id='globalPageSearchText']\")\n",
    "search_laptop.send_keys(\"top 10 gaming laptop\")"
   ]
  },
  {
   "cell_type": "code",
   "execution_count": 23,
   "metadata": {},
   "outputs": [],
   "source": [
    "search_laptop.click()"
   ]
  },
  {
   "cell_type": "code",
   "execution_count": 24,
   "metadata": {},
   "outputs": [],
   "source": [
    "laptop=[]"
   ]
  },
  {
   "cell_type": "code",
   "execution_count": 25,
   "metadata": {},
   "outputs": [
    {
     "data": {
      "text/plain": [
       "['Asus G750JX-CV069P',\n",
       " 'HP Envy 15-k006tx',\n",
       " \"ASUS G53J - A 3D gamer's delight but we want more\",\n",
       " 'Dell Inspiron 15 7567 Gaming Intel Core i5',\n",
       " 'MSI Z170A Gaming M7',\n",
       " 'Asus A555LF-XO255D',\n",
       " 'Asus Core i3 6th Gen - (4 GB/1 TB HDD/Windows 10 Home) X541UA-XO217T Laptop (15.6 inch, Chocolate Black, 2 kg)',\n",
       " 'Microsoft Sculpt Mobile Mouse',\n",
       " 'Asus VivoBook S14 Core i5 8th Gen - (8 GB/1 TB HDD/256 GB SSD/Windows 10 Home) S410UA-EB409T Thin and Light Laptop (14 inch)']"
      ]
     },
     "execution_count": 25,
     "metadata": {},
     "output_type": "execute_result"
    }
   ],
   "source": [
    "titles_tag=driver.find_elements_by_xpath(\"//div[@class='searchProduct-desc']\")\n",
    "for i in titles_tag:\n",
    "    laptop.append(i.text)\n",
    "laptop[0:9]"
   ]
  },
  {
   "cell_type": "code",
   "execution_count": 26,
   "metadata": {},
   "outputs": [],
   "source": [
    "import pandas as pd\n",
    "GamingLaptop_top10=pd.DataFrame()\n",
    "GamingLaptop_top10['LAPTOP']=laptop[0:9]"
   ]
  },
  {
   "cell_type": "code",
   "execution_count": 27,
   "metadata": {},
   "outputs": [
    {
     "data": {
      "text/html": [
       "<div>\n",
       "<style scoped>\n",
       "    .dataframe tbody tr th:only-of-type {\n",
       "        vertical-align: middle;\n",
       "    }\n",
       "\n",
       "    .dataframe tbody tr th {\n",
       "        vertical-align: top;\n",
       "    }\n",
       "\n",
       "    .dataframe thead th {\n",
       "        text-align: right;\n",
       "    }\n",
       "</style>\n",
       "<table border=\"1\" class=\"dataframe\">\n",
       "  <thead>\n",
       "    <tr style=\"text-align: right;\">\n",
       "      <th></th>\n",
       "      <th>LAPTOP</th>\n",
       "    </tr>\n",
       "  </thead>\n",
       "  <tbody>\n",
       "    <tr>\n",
       "      <th>0</th>\n",
       "      <td>Asus G750JX-CV069P</td>\n",
       "    </tr>\n",
       "    <tr>\n",
       "      <th>1</th>\n",
       "      <td>HP Envy 15-k006tx</td>\n",
       "    </tr>\n",
       "    <tr>\n",
       "      <th>2</th>\n",
       "      <td>ASUS G53J - A 3D gamer's delight but we want more</td>\n",
       "    </tr>\n",
       "    <tr>\n",
       "      <th>3</th>\n",
       "      <td>Dell Inspiron 15 7567 Gaming Intel Core i5</td>\n",
       "    </tr>\n",
       "    <tr>\n",
       "      <th>4</th>\n",
       "      <td>MSI Z170A Gaming M7</td>\n",
       "    </tr>\n",
       "    <tr>\n",
       "      <th>5</th>\n",
       "      <td>Asus A555LF-XO255D</td>\n",
       "    </tr>\n",
       "    <tr>\n",
       "      <th>6</th>\n",
       "      <td>Asus Core i3 6th Gen - (4 GB/1 TB HDD/Windows ...</td>\n",
       "    </tr>\n",
       "    <tr>\n",
       "      <th>7</th>\n",
       "      <td>Microsoft Sculpt Mobile Mouse</td>\n",
       "    </tr>\n",
       "    <tr>\n",
       "      <th>8</th>\n",
       "      <td>Asus VivoBook S14 Core i5 8th Gen - (8 GB/1 TB...</td>\n",
       "    </tr>\n",
       "  </tbody>\n",
       "</table>\n",
       "</div>"
      ],
      "text/plain": [
       "                                              LAPTOP\n",
       "0                                 Asus G750JX-CV069P\n",
       "1                                  HP Envy 15-k006tx\n",
       "2  ASUS G53J - A 3D gamer's delight but we want more\n",
       "3         Dell Inspiron 15 7567 Gaming Intel Core i5\n",
       "4                                MSI Z170A Gaming M7\n",
       "5                                 Asus A555LF-XO255D\n",
       "6  Asus Core i3 6th Gen - (4 GB/1 TB HDD/Windows ...\n",
       "7                      Microsoft Sculpt Mobile Mouse\n",
       "8  Asus VivoBook S14 Core i5 8th Gen - (8 GB/1 TB..."
      ]
     },
     "execution_count": 27,
     "metadata": {},
     "output_type": "execute_result"
    }
   ],
   "source": [
    "GamingLaptop_top10"
   ]
  },
  {
   "cell_type": "code",
   "execution_count": null,
   "metadata": {},
   "outputs": [],
   "source": []
  }
 ],
 "metadata": {
  "kernelspec": {
   "display_name": "Python 3",
   "language": "python",
   "name": "python3"
  },
  "language_info": {
   "codemirror_mode": {
    "name": "ipython",
    "version": 3
   },
   "file_extension": ".py",
   "mimetype": "text/x-python",
   "name": "python",
   "nbconvert_exporter": "python",
   "pygments_lexer": "ipython3",
   "version": "3.7.6"
  }
 },
 "nbformat": 4,
 "nbformat_minor": 4
}
